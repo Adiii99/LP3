{
  "nbformat": 4,
  "nbformat_minor": 0,
  "metadata": {
    "colab": {
      "provenance": [],
      "toc_visible": true,
      "authorship_tag": "ABX9TyOFYSHzl4qW17a7BvQRCQTI",
      "include_colab_link": true
    },
    "kernelspec": {
      "name": "python3",
      "display_name": "Python 3"
    },
    "language_info": {
      "name": "python"
    }
  },
  "cells": [
    {
      "cell_type": "markdown",
      "metadata": {
        "id": "view-in-github",
        "colab_type": "text"
      },
      "source": [
        "<a href=\"https://colab.research.google.com/github/Adiii99/LP3/blob/main/knapsackFraction.ipynb\" target=\"_parent\"><img src=\"https://colab.research.google.com/assets/colab-badge.svg\" alt=\"Open In Colab\"/></a>"
      ]
    },
    {
      "cell_type": "code",
      "execution_count": 1,
      "metadata": {
        "colab": {
          "base_uri": "https://localhost:8080/"
        },
        "id": "rhu1GKZL7XFT",
        "outputId": "53e54ab0-201b-44bc-a567-9609b0266521"
      },
      "outputs": [
        {
          "output_type": "stream",
          "name": "stdout",
          "text": [
            "Maximum value obtained is :  240.0\n"
          ]
        }
      ],
      "source": [
        "class Item:\n",
        "    def __init__(self, profit, weight):\n",
        "        self.profit = profit\n",
        "        self.weight = weight\n",
        "\n",
        "\n",
        "def fractionalKnapsack(W, arr):\n",
        "    arr.sort(key=lambda x: (x.profit/x.weight), reverse=True)\n",
        "    finalvalue = 0.0\n",
        "\n",
        "    # Looping through all Items\n",
        "    for item in arr:\n",
        "        if item.weight <= W:\n",
        "            W -= item.weight\n",
        "            finalvalue += item.profit\n",
        "        else:\n",
        "            finalvalue += item.profit * W / item.weight\n",
        "            break\n",
        "\n",
        "    return finalvalue\n",
        "\n",
        "if __name__ == \"__main__\":\n",
        " W = 50\n",
        " arr = [Item(60, 10), Item(100, 20), Item(120, 30)]\n",
        " max_val = fractionalKnapsack(W, arr)\n",
        " print(\"Maximum value obtained is : \",max_val)"
      ]
    }
  ]
}