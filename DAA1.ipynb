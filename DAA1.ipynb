{
  "nbformat": 4,
  "nbformat_minor": 0,
  "metadata": {
    "colab": {
      "provenance": [],
      "toc_visible": true,
      "authorship_tag": "ABX9TyOrawTC7bH1X2coc9rdJxFl",
      "include_colab_link": true
    },
    "kernelspec": {
      "name": "python3",
      "display_name": "Python 3"
    },
    "language_info": {
      "name": "python"
    }
  },
  "cells": [
    {
      "cell_type": "markdown",
      "metadata": {
        "id": "view-in-github",
        "colab_type": "text"
      },
      "source": [
        "<a href=\"https://colab.research.google.com/github/Adiii99/LP3/blob/main/DAA1.ipynb\" target=\"_parent\"><img src=\"https://colab.research.google.com/assets/colab-badge.svg\" alt=\"Open In Colab\"/></a>"
      ]
    },
    {
      "cell_type": "code",
      "execution_count": null,
      "metadata": {
        "id": "kZj-sdQPUuBN"
      },
      "outputs": [],
      "source": [
        "def calculate_fibonacci_series(n):\n",
        "  a = 0\n",
        "  b = 1\n",
        "  step_count=0\n",
        "  fibonacci_series = []\n",
        "\n",
        "  for i in range(n):\n",
        "    step_count += 1\n",
        "    fibonacci_series.append(a)\n",
        "    a, b = b, a+b\n",
        "\n",
        "  return fibonacci_series, step_count"
      ]
    },
    {
      "cell_type": "code",
      "source": [
        "def recur_fibo(n):\n",
        "  if n<=1:\n",
        "    return n\n",
        "  else:\n",
        "    return(recur_fibo(n-1)+recur_fibo(n-2))"
      ],
      "metadata": {
        "id": "Sbpl7B4VYFHI"
      },
      "execution_count": null,
      "outputs": []
    },
    {
      "cell_type": "code",
      "source": [
        "# input from user\n",
        "n = int(input(\"Enter the number of times in the fibonacci series :\"))\n",
        "\n",
        "# calculate fibonacci series and step count\n",
        "fibonacci_series, step_count = calculate_fibonacci_series(n)\n",
        "print(f\"Fibonacci series for the first {n} terms : { fibonacci_series}\")\n",
        "print(f\"Step count is : {step_count}\")"
      ],
      "metadata": {
        "colab": {
          "base_uri": "https://localhost:8080/"
        },
        "id": "BNGoHC7yVyuJ",
        "outputId": "be98a048-06c0-4978-9f33-0620dd5b2785"
      },
      "execution_count": null,
      "outputs": [
        {
          "output_type": "stream",
          "name": "stdout",
          "text": [
            "Enter the number of times in the fibonacci series :1\n",
            "Fibonacci series for the first 1 terms : [0]\n",
            "Step count is : 1\n"
          ]
        }
      ]
    },
    {
      "cell_type": "code",
      "source": [
        "n = int(input(\"Enter the number of times in the fibonacci series :\"))\n",
        "\n",
        "if n<=0:\n",
        "  print(\"please enter positive number\")\n",
        "else:\n",
        "  print(\"Fibonacci series:\")\n",
        "  for i in range(n):\n",
        "    print(recur_fibo(i))"
      ],
      "metadata": {
        "colab": {
          "base_uri": "https://localhost:8080/"
        },
        "id": "78Rl86rkbjej",
        "outputId": "44b4ba06-d470-4930-b457-de0a988dfd42"
      },
      "execution_count": null,
      "outputs": [
        {
          "output_type": "stream",
          "name": "stdout",
          "text": [
            "Enter the number of times in the fibonacci series :15\n",
            "Fibonacci series:\n",
            "0\n",
            "1\n",
            "1\n",
            "2\n",
            "3\n",
            "5\n",
            "8\n",
            "13\n",
            "21\n",
            "34\n",
            "55\n",
            "89\n",
            "144\n",
            "233\n",
            "377\n"
          ]
        }
      ]
    }
  ]
}