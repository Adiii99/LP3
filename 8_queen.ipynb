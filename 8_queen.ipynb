{
  "nbformat": 4,
  "nbformat_minor": 0,
  "metadata": {
    "colab": {
      "provenance": [],
      "toc_visible": true,
      "authorship_tag": "ABX9TyMr2acSF4l0hcvsmGAz4MYZ",
      "include_colab_link": true
    },
    "kernelspec": {
      "name": "python3",
      "display_name": "Python 3"
    },
    "language_info": {
      "name": "python"
    }
  },
  "cells": [
    {
      "cell_type": "markdown",
      "metadata": {
        "id": "view-in-github",
        "colab_type": "text"
      },
      "source": [
        "<a href=\"https://colab.research.google.com/github/Adiii99/LP3/blob/main/8_queen.ipynb\" target=\"_parent\"><img src=\"https://colab.research.google.com/assets/colab-badge.svg\" alt=\"Open In Colab\"/></a>"
      ]
    },
    {
      "cell_type": "code",
      "execution_count": 4,
      "metadata": {
        "colab": {
          "base_uri": "https://localhost:8080/"
        },
        "id": "S3QvE6Uf9JkE",
        "outputId": "46eed261-51d7-49ab-fa44-813f6c07ae17"
      },
      "outputs": [
        {
          "output_type": "stream",
          "name": "stdout",
          "text": [
            "0 Q 0 0\n",
            "0 0 0 Q\n",
            "Q 0 0 0\n",
            "0 0 Q 0\n",
            "\n",
            "0 0 Q 0\n",
            "Q 0 0 0\n",
            "0 0 0 Q\n",
            "0 Q 0 0\n",
            "\n"
          ]
        }
      ],
      "source": [
        "def n_queens(n):\n",
        "    col = set()\n",
        "    posDiag=set() # (r+c)\n",
        "    negDiag=set() # (r-c)\n",
        "    res=[]\n",
        "    board = [[\"0\"]*n for i in range(n) ]\n",
        "\n",
        "    def backtrack(r):\n",
        "      if r==n:\n",
        "          copy = [\" \".join(row) for row in board]\n",
        "          res.append(copy)\n",
        "          return\n",
        "\n",
        "      for c in range(n):\n",
        "          if c in col or (r+c) in posDiag or (r-c) in negDiag:\n",
        "              continue\n",
        "\n",
        "          col.add(c)\n",
        "          posDiag.add(r+c)\n",
        "          negDiag.add(r-c)\n",
        "          board[r][c]=\"Q\"\n",
        "\n",
        "          backtrack(r+1)\n",
        "\n",
        "          col.remove(c)\n",
        "          posDiag.remove(r+c)\n",
        "          negDiag.remove(r-c)\n",
        "          board[r][c]=\"0\"\n",
        "    backtrack(0)\n",
        "    for sol in res:\n",
        "        for row in sol:\n",
        "            print(row)\n",
        "        print()\n",
        "\n",
        "if __name__==\"__main__\":\n",
        " n_queens(4)"
      ]
    }
  ]
}