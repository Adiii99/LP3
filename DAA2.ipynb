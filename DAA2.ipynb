{
  "nbformat": 4,
  "nbformat_minor": 0,
  "metadata": {
    "colab": {
      "provenance": [],
      "toc_visible": true,
      "authorship_tag": "ABX9TyNnfFm3DxZn6BWGd8uDjiEl",
      "include_colab_link": true
    },
    "kernelspec": {
      "name": "python3",
      "display_name": "Python 3"
    },
    "language_info": {
      "name": "python"
    }
  },
  "cells": [
    {
      "cell_type": "markdown",
      "metadata": {
        "id": "view-in-github",
        "colab_type": "text"
      },
      "source": [
        "<a href=\"https://colab.research.google.com/github/Adiii99/LP3/blob/main/DAA2.ipynb\" target=\"_parent\"><img src=\"https://colab.research.google.com/assets/colab-badge.svg\" alt=\"Open In Colab\"/></a>"
      ]
    },
    {
      "cell_type": "code",
      "execution_count": 9,
      "metadata": {
        "colab": {
          "base_uri": "https://localhost:8080/"
        },
        "id": "VT5zkaHDntNu",
        "outputId": "ddb5b8c3-c49f-41a3-db66-6d76f81d9d4e"
      },
      "outputs": [
        {
          "output_type": "stream",
          "name": "stdout",
          "text": [
            "f -> 0\n",
            "c -> 100\n",
            "d -> 101\n",
            "a -> 1100\n",
            "b -> 1101\n",
            "e -> 111\n"
          ]
        }
      ],
      "source": [
        "import heapq\n",
        "class node:\n",
        " def __init__(self,freq,symbol,left=None,right=None):\n",
        "    self.freq=freq # frequency of symbol\n",
        "    self.symbol=symbol # symbol name (character)\n",
        "    self.left=left # node left of current node\n",
        "    self.right=right # node right of current node\n",
        "    self.huff= '' # # tree direction (0/1)\n",
        "\n",
        " def __lt__(self,nxt): # Check if curr frequency less than next nodes f\n",
        "    return self.freq<nxt.freq\n",
        "\n",
        "def printnodes(node,val=''):\n",
        "    newval=val+str(node.huff)\n",
        "    # if node is not an edge node then traverse inside it\n",
        "    if node.left:\n",
        "      printnodes(node.left,newval)\n",
        "    if node.right:\n",
        "      printnodes(node.right,newval)\n",
        "    # if node is edge node then display its huffman code\n",
        "    if not node.left and not node.right:\n",
        "      print(\"{} -> {}\".format(node.symbol,newval))\n",
        "\n",
        "\n",
        "if __name__==\"__main__\":\n",
        "    chars = ['a', 'b', 'c', 'd', 'e', 'f']\n",
        "    freq = [ 5, 9, 12, 13, 16, 45]\n",
        "    nodes=[]\n",
        "\n",
        "    for i in range(len(chars)): # # converting characters and frequencies into huffman tree nodes\n",
        "        heapq.heappush(nodes, node(freq[i],chars[i]))\n",
        "\n",
        "    while len(nodes)>1:\n",
        "\n",
        "        # sort all the nodes in ascending order based on their frequency\n",
        "        left=heapq.heappop(nodes)\n",
        "        right=heapq.heappop(nodes)\n",
        "\n",
        "        # assign directional value to these nodes\n",
        "        left.huff = 0\n",
        "        right.huff = 1\n",
        "\n",
        "        # Combining the 2 smallest nodes to create new node as their parent\n",
        "        newnode = node(left.freq + right.freq , left.symbol + right.symbol, left, right)\n",
        "\n",
        "        # node(freq,symbol,left,right)\n",
        "        heapq.heappush(nodes, newnode)\n",
        "\n",
        "    printnodes(nodes[0]) # Passing root of Huffman Tree"
      ]
    }
  ]
}